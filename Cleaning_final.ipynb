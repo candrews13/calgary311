{
 "cells": [
  {
   "cell_type": "markdown",
   "id": "2f46e7d7-1ff0-487d-8491-e67c452edcbc",
   "metadata": {},
   "source": [
    "# EDA for 311 Calgary Dataset\n",
    "\n",
    "## via import of CSV file downloaded Jan 23 2024"
   ]
  },
  {
   "cell_type": "markdown",
   "id": "88f53d9f-44d9-42f4-9103-d34543890f75",
   "metadata": {},
   "source": [
    "### Imports \n",
    "---"
   ]
  },
  {
   "cell_type": "code",
   "execution_count": 1,
   "id": "e23842a2-2d45-48f4-ad56-b6959c240c34",
   "metadata": {},
   "outputs": [],
   "source": [
    "import pandas as pd\n",
    "import numpy as np\n",
    "import matplotlib.pyplot as plt"
   ]
  },
  {
   "cell_type": "markdown",
   "id": "d9055046-34b9-4b87-8deb-810b7ce3ea84",
   "metadata": {},
   "source": [
    "### Load Data"
   ]
  },
  {
   "cell_type": "code",
   "execution_count": 2,
   "id": "b159160f-1eb1-4842-bfac-96303bbb7cb1",
   "metadata": {},
   "outputs": [],
   "source": [
    "service_req_df = pd.read_csv('./Data/311_Service_Requests_20240123.csv')"
   ]
  },
  {
   "cell_type": "markdown",
   "id": "fc1060b9-52c8-4581-9d50-6033ba69af30",
   "metadata": {},
   "source": [
    "### Explore the dataset\n",
    "---"
   ]
  },
  {
   "cell_type": "code",
   "execution_count": 3,
   "id": "db6e9682-3591-40de-9db8-eb10f94ca5fc",
   "metadata": {},
   "outputs": [
    {
     "data": {
      "text/plain": [
       "(6147620, 15)"
      ]
     },
     "execution_count": 3,
     "metadata": {},
     "output_type": "execute_result"
    }
   ],
   "source": [
    "service_req_df.shape"
   ]
  },
  {
   "cell_type": "code",
   "execution_count": 3,
   "id": "a81e3637-7438-45f5-845b-22007b9ddaa5",
   "metadata": {},
   "outputs": [
    {
     "data": {
      "text/html": [
       "<div>\n",
       "<style scoped>\n",
       "    .dataframe tbody tr th:only-of-type {\n",
       "        vertical-align: middle;\n",
       "    }\n",
       "\n",
       "    .dataframe tbody tr th {\n",
       "        vertical-align: top;\n",
       "    }\n",
       "\n",
       "    .dataframe thead th {\n",
       "        text-align: right;\n",
       "    }\n",
       "</style>\n",
       "<table border=\"1\" class=\"dataframe\">\n",
       "  <thead>\n",
       "    <tr style=\"text-align: right;\">\n",
       "      <th></th>\n",
       "      <th>service_request_id</th>\n",
       "      <th>requested_date</th>\n",
       "      <th>updated_date</th>\n",
       "      <th>closed_date</th>\n",
       "      <th>status_description</th>\n",
       "      <th>source</th>\n",
       "      <th>service_name</th>\n",
       "      <th>agency_responsible</th>\n",
       "      <th>address</th>\n",
       "      <th>comm_code</th>\n",
       "      <th>comm_name</th>\n",
       "      <th>location_type</th>\n",
       "      <th>longitude</th>\n",
       "      <th>latitude</th>\n",
       "      <th>point</th>\n",
       "    </tr>\n",
       "  </thead>\n",
       "  <tbody>\n",
       "    <tr>\n",
       "      <th>0</th>\n",
       "      <td>18-01017964</td>\n",
       "      <td>2018/10/17 12:00:00 AM</td>\n",
       "      <td>2020/06/24 12:00:00 AM</td>\n",
       "      <td>2020/06/24 12:00:00 AM</td>\n",
       "      <td>Closed</td>\n",
       "      <td>Phone</td>\n",
       "      <td>Roads - Traffic Signal Timing Inquiry</td>\n",
       "      <td>TRAN - Roads</td>\n",
       "      <td>NaN</td>\n",
       "      <td>SHN</td>\n",
       "      <td>SHAWNESSY</td>\n",
       "      <td>Community Centrepoint</td>\n",
       "      <td>-114.073757</td>\n",
       "      <td>50.903303</td>\n",
       "      <td>POINT (-114.073756821499 50.903303329478)</td>\n",
       "    </tr>\n",
       "  </tbody>\n",
       "</table>\n",
       "</div>"
      ],
      "text/plain": [
       "  service_request_id          requested_date            updated_date  \\\n",
       "0        18-01017964  2018/10/17 12:00:00 AM  2020/06/24 12:00:00 AM   \n",
       "\n",
       "              closed_date status_description source  \\\n",
       "0  2020/06/24 12:00:00 AM             Closed  Phone   \n",
       "\n",
       "                            service_name agency_responsible  address  \\\n",
       "0  Roads - Traffic Signal Timing Inquiry       TRAN - Roads      NaN   \n",
       "\n",
       "  comm_code  comm_name          location_type   longitude   latitude  \\\n",
       "0       SHN  SHAWNESSY  Community Centrepoint -114.073757  50.903303   \n",
       "\n",
       "                                       point  \n",
       "0  POINT (-114.073756821499 50.903303329478)  "
      ]
     },
     "execution_count": 3,
     "metadata": {},
     "output_type": "execute_result"
    }
   ],
   "source": [
    "service_req_df.head(1)\n",
    "# service_req_df.tail()"
   ]
  },
  {
   "cell_type": "code",
   "execution_count": 5,
   "id": "f33cfa72-5100-4e8b-a682-6b9720cf2ff0",
   "metadata": {},
   "outputs": [
    {
     "name": "stdout",
     "output_type": "stream",
     "text": [
      "<class 'pandas.core.frame.DataFrame'>\n",
      "RangeIndex: 6147620 entries, 0 to 6147619\n",
      "Data columns (total 15 columns):\n",
      " #   Column              Dtype  \n",
      "---  ------              -----  \n",
      " 0   service_request_id  object \n",
      " 1   requested_date      object \n",
      " 2   updated_date        object \n",
      " 3   closed_date         object \n",
      " 4   status_description  object \n",
      " 5   source              object \n",
      " 6   service_name        object \n",
      " 7   agency_responsible  object \n",
      " 8   address             float64\n",
      " 9   comm_code           object \n",
      " 10  comm_name           object \n",
      " 11  location_type       object \n",
      " 12  longitude           float64\n",
      " 13  latitude            float64\n",
      " 14  point               object \n",
      "dtypes: float64(3), object(12)\n",
      "memory usage: 703.5+ MB\n"
     ]
    }
   ],
   "source": [
    "service_req_df.info()"
   ]
  },
  {
   "cell_type": "code",
   "execution_count": 4,
   "id": "e0b1fe32-3288-4256-ae8c-48b5bb854451",
   "metadata": {},
   "outputs": [
    {
     "data": {
      "text/html": [
       "<div>\n",
       "<style scoped>\n",
       "    .dataframe tbody tr th:only-of-type {\n",
       "        vertical-align: middle;\n",
       "    }\n",
       "\n",
       "    .dataframe tbody tr th {\n",
       "        vertical-align: top;\n",
       "    }\n",
       "\n",
       "    .dataframe thead th {\n",
       "        text-align: right;\n",
       "    }\n",
       "</style>\n",
       "<table border=\"1\" class=\"dataframe\">\n",
       "  <thead>\n",
       "    <tr style=\"text-align: right;\">\n",
       "      <th></th>\n",
       "      <th>DataType</th>\n",
       "    </tr>\n",
       "  </thead>\n",
       "  <tbody>\n",
       "    <tr>\n",
       "      <th>service_request_id</th>\n",
       "      <td>object</td>\n",
       "    </tr>\n",
       "    <tr>\n",
       "      <th>requested_date</th>\n",
       "      <td>object</td>\n",
       "    </tr>\n",
       "    <tr>\n",
       "      <th>updated_date</th>\n",
       "      <td>object</td>\n",
       "    </tr>\n",
       "    <tr>\n",
       "      <th>closed_date</th>\n",
       "      <td>object</td>\n",
       "    </tr>\n",
       "    <tr>\n",
       "      <th>status_description</th>\n",
       "      <td>object</td>\n",
       "    </tr>\n",
       "    <tr>\n",
       "      <th>source</th>\n",
       "      <td>object</td>\n",
       "    </tr>\n",
       "    <tr>\n",
       "      <th>service_name</th>\n",
       "      <td>object</td>\n",
       "    </tr>\n",
       "    <tr>\n",
       "      <th>agency_responsible</th>\n",
       "      <td>object</td>\n",
       "    </tr>\n",
       "    <tr>\n",
       "      <th>address</th>\n",
       "      <td>float64</td>\n",
       "    </tr>\n",
       "    <tr>\n",
       "      <th>comm_code</th>\n",
       "      <td>object</td>\n",
       "    </tr>\n",
       "    <tr>\n",
       "      <th>comm_name</th>\n",
       "      <td>object</td>\n",
       "    </tr>\n",
       "    <tr>\n",
       "      <th>location_type</th>\n",
       "      <td>object</td>\n",
       "    </tr>\n",
       "    <tr>\n",
       "      <th>longitude</th>\n",
       "      <td>float64</td>\n",
       "    </tr>\n",
       "    <tr>\n",
       "      <th>latitude</th>\n",
       "      <td>float64</td>\n",
       "    </tr>\n",
       "    <tr>\n",
       "      <th>point</th>\n",
       "      <td>object</td>\n",
       "    </tr>\n",
       "  </tbody>\n",
       "</table>\n",
       "</div>"
      ],
      "text/plain": [
       "                   DataType\n",
       "service_request_id   object\n",
       "requested_date       object\n",
       "updated_date         object\n",
       "closed_date          object\n",
       "status_description   object\n",
       "source               object\n",
       "service_name         object\n",
       "agency_responsible   object\n",
       "address             float64\n",
       "comm_code            object\n",
       "comm_name            object\n",
       "location_type        object\n",
       "longitude           float64\n",
       "latitude            float64\n",
       "point                object"
      ]
     },
     "execution_count": 4,
     "metadata": {},
     "output_type": "execute_result"
    }
   ],
   "source": [
    "# checking data types\n",
    "pd.DataFrame(service_req_df.dtypes, columns=['DataType'])"
   ]
  },
  {
   "cell_type": "code",
   "execution_count": 5,
   "id": "4e40d911-cb85-4608-ba4f-130e88440aef",
   "metadata": {},
   "outputs": [
    {
     "data": {
      "text/plain": [
       "address               6147620\n",
       "longitude              339883\n",
       "latitude               339883\n",
       "point                  339883\n",
       "comm_code              339823\n",
       "comm_name              339796\n",
       "updated_date            77829\n",
       "closed_date             58711\n",
       "service_name             8743\n",
       "agency_responsible         60\n",
       "service_request_id          0\n",
       "requested_date              0\n",
       "status_description          0\n",
       "source                      0\n",
       "location_type               0\n",
       "dtype: int64"
      ]
     },
     "execution_count": 5,
     "metadata": {},
     "output_type": "execute_result"
    }
   ],
   "source": [
    "# looking for null values, sorting columns with the largest null counts to the top of the list\n",
    "service_req_df.isnull().sum().sort_values(ascending=False)"
   ]
  },
  {
   "cell_type": "markdown",
   "id": "31933f25-d3b9-42ae-9aed-fb3cb3c945c2",
   "metadata": {},
   "source": [
    "## Data Cleaning\n",
    "---"
   ]
  },
  {
   "cell_type": "code",
   "execution_count": 6,
   "id": "9fb39c01-2403-43fb-a989-53e46b315eb3",
   "metadata": {},
   "outputs": [],
   "source": [
    "# Dropping the addess column as it contains only Null values\n",
    "service_req_df.drop(columns='address', inplace=True)"
   ]
  },
  {
   "cell_type": "markdown",
   "id": "7dc76063-3942-489e-873d-865388dc8b6c",
   "metadata": {},
   "source": [
    "#### Examining date columns"
   ]
  },
  {
   "cell_type": "code",
   "execution_count": 9,
   "id": "df22b2cc-cdf8-48e3-b426-7d0d77537e9c",
   "metadata": {},
   "outputs": [
    {
     "data": {
      "text/html": [
       "<div>\n",
       "<style scoped>\n",
       "    .dataframe tbody tr th:only-of-type {\n",
       "        vertical-align: middle;\n",
       "    }\n",
       "\n",
       "    .dataframe tbody tr th {\n",
       "        vertical-align: top;\n",
       "    }\n",
       "\n",
       "    .dataframe thead th {\n",
       "        text-align: right;\n",
       "    }\n",
       "</style>\n",
       "<table border=\"1\" class=\"dataframe\">\n",
       "  <thead>\n",
       "    <tr style=\"text-align: right;\">\n",
       "      <th></th>\n",
       "      <th>service_request_id</th>\n",
       "      <th>requested_date</th>\n",
       "      <th>updated_date</th>\n",
       "      <th>closed_date</th>\n",
       "      <th>status_description</th>\n",
       "      <th>source</th>\n",
       "      <th>service_name</th>\n",
       "      <th>agency_responsible</th>\n",
       "      <th>comm_code</th>\n",
       "      <th>comm_name</th>\n",
       "      <th>location_type</th>\n",
       "      <th>longitude</th>\n",
       "      <th>latitude</th>\n",
       "      <th>point</th>\n",
       "    </tr>\n",
       "  </thead>\n",
       "  <tbody>\n",
       "    <tr>\n",
       "      <th>3313253</th>\n",
       "      <td>12-00000218</td>\n",
       "      <td>2012/01/01 08:39:10 PM</td>\n",
       "      <td>NaN</td>\n",
       "      <td>2012/01/24 01:45:43 PM</td>\n",
       "      <td>Duplicate (Closed)</td>\n",
       "      <td>Phone</td>\n",
       "      <td>Z - Roads - Streetlight - Many Out Residential...</td>\n",
       "      <td>TRAN - Roads</td>\n",
       "      <td>PAN</td>\n",
       "      <td>PANORAMA HILLS</td>\n",
       "      <td>Community Centrepoint</td>\n",
       "      <td>-114.088063</td>\n",
       "      <td>51.159711</td>\n",
       "      <td>POINT (-114.088063406263 51.159711011076006)</td>\n",
       "    </tr>\n",
       "    <tr>\n",
       "      <th>3303534</th>\n",
       "      <td>12-00000225</td>\n",
       "      <td>2012/01/01 09:13:36 PM</td>\n",
       "      <td>NaN</td>\n",
       "      <td>2012/08/13 03:41:24 PM</td>\n",
       "      <td>Duplicate (Closed)</td>\n",
       "      <td>Phone</td>\n",
       "      <td>Z - Roads - Streetlight - Many Out Residential...</td>\n",
       "      <td>TRAN - Roads</td>\n",
       "      <td>MID</td>\n",
       "      <td>MIDNAPORE</td>\n",
       "      <td>Community Centrepoint</td>\n",
       "      <td>-114.057615</td>\n",
       "      <td>50.915638</td>\n",
       "      <td>POINT (-114.057614948384 50.915638474664)</td>\n",
       "    </tr>\n",
       "    <tr>\n",
       "      <th>3312753</th>\n",
       "      <td>12-00000039</td>\n",
       "      <td>2012/01/01 09:56:38 AM</td>\n",
       "      <td>NaN</td>\n",
       "      <td>2012/01/01 09:56:38 AM</td>\n",
       "      <td>Closed</td>\n",
       "      <td>Phone</td>\n",
       "      <td>311 - Animal Licence Request Tracker</td>\n",
       "      <td>CS - Calgary Community Standards</td>\n",
       "      <td>RIC</td>\n",
       "      <td>RICHMOND</td>\n",
       "      <td>Community Centrepoint</td>\n",
       "      <td>-114.118422</td>\n",
       "      <td>51.029705</td>\n",
       "      <td>POINT (-114.11842246883901 51.029705434695)</td>\n",
       "    </tr>\n",
       "    <tr>\n",
       "      <th>3313744</th>\n",
       "      <td>12-00000045</td>\n",
       "      <td>2012/01/01 10:22:28 AM</td>\n",
       "      <td>NaN</td>\n",
       "      <td>2012/01/01 10:22:28 AM</td>\n",
       "      <td>Closed</td>\n",
       "      <td>Phone</td>\n",
       "      <td>311 - Animal Licence Request Tracker</td>\n",
       "      <td>CS - Calgary Community Standards</td>\n",
       "      <td>HUN</td>\n",
       "      <td>HUNTINGTON HILLS</td>\n",
       "      <td>Community Centrepoint</td>\n",
       "      <td>-114.066709</td>\n",
       "      <td>51.117582</td>\n",
       "      <td>POINT (-114.066709443959 51.117582291839)</td>\n",
       "    </tr>\n",
       "    <tr>\n",
       "      <th>3315691</th>\n",
       "      <td>12-00000048</td>\n",
       "      <td>2012/01/01 10:40:58 AM</td>\n",
       "      <td>NaN</td>\n",
       "      <td>2012/01/01 10:40:58 AM</td>\n",
       "      <td>Closed</td>\n",
       "      <td>Phone</td>\n",
       "      <td>311 - Animal Licence Request Tracker</td>\n",
       "      <td>CS - Calgary Community Standards</td>\n",
       "      <td>SDC</td>\n",
       "      <td>SUNDANCE</td>\n",
       "      <td>Community Centrepoint</td>\n",
       "      <td>-114.042049</td>\n",
       "      <td>50.901555</td>\n",
       "      <td>POINT (-114.04204857668 50.901555104863)</td>\n",
       "    </tr>\n",
       "    <tr>\n",
       "      <th>...</th>\n",
       "      <td>...</td>\n",
       "      <td>...</td>\n",
       "      <td>...</td>\n",
       "      <td>...</td>\n",
       "      <td>...</td>\n",
       "      <td>...</td>\n",
       "      <td>...</td>\n",
       "      <td>...</td>\n",
       "      <td>...</td>\n",
       "      <td>...</td>\n",
       "      <td>...</td>\n",
       "      <td>...</td>\n",
       "      <td>...</td>\n",
       "      <td>...</td>\n",
       "    </tr>\n",
       "    <tr>\n",
       "      <th>3158065</th>\n",
       "      <td>19-00492031</td>\n",
       "      <td>2019/06/06 11:37:05 AM</td>\n",
       "      <td>NaN</td>\n",
       "      <td>NaN</td>\n",
       "      <td>Duplicate (Open)</td>\n",
       "      <td>App</td>\n",
       "      <td>Bylaw - Tree - Shrub Infraction</td>\n",
       "      <td>CS - Calgary Community Standards</td>\n",
       "      <td>WHL</td>\n",
       "      <td>WEST HILLHURST</td>\n",
       "      <td>Community Centrepoint</td>\n",
       "      <td>-114.115156</td>\n",
       "      <td>51.055059</td>\n",
       "      <td>POINT (-114.115155739639 51.055058817012)</td>\n",
       "    </tr>\n",
       "    <tr>\n",
       "      <th>3158675</th>\n",
       "      <td>19-00497943</td>\n",
       "      <td>2019/06/07 03:43:25 PM</td>\n",
       "      <td>NaN</td>\n",
       "      <td>2019/06/07 06:46:12 PM</td>\n",
       "      <td>Duplicate (Closed)</td>\n",
       "      <td>Phone</td>\n",
       "      <td>AS - Animal at Large</td>\n",
       "      <td>CS - Calgary Community Standards</td>\n",
       "      <td>HAY</td>\n",
       "      <td>HAYSBORO</td>\n",
       "      <td>Community Centrepoint</td>\n",
       "      <td>-114.083351</td>\n",
       "      <td>50.972214</td>\n",
       "      <td>POINT (-114.08335089480701 50.972214404313)</td>\n",
       "    </tr>\n",
       "    <tr>\n",
       "      <th>3156158</th>\n",
       "      <td>19-00499245</td>\n",
       "      <td>2019/06/08 11:02:51 AM</td>\n",
       "      <td>NaN</td>\n",
       "      <td>NaN</td>\n",
       "      <td>Duplicate (Open)</td>\n",
       "      <td>Phone</td>\n",
       "      <td>Development Compliance - Vehicle Infractions</td>\n",
       "      <td>PD - Calgary Building Services</td>\n",
       "      <td>TEM</td>\n",
       "      <td>TEMPLE</td>\n",
       "      <td>Community Centrepoint</td>\n",
       "      <td>-113.946768</td>\n",
       "      <td>51.088795</td>\n",
       "      <td>POINT (-113.946767736659 51.088794585093)</td>\n",
       "    </tr>\n",
       "    <tr>\n",
       "      <th>3163003</th>\n",
       "      <td>19-00506870</td>\n",
       "      <td>2019/06/10 08:29:08 PM</td>\n",
       "      <td>NaN</td>\n",
       "      <td>2019/06/10 08:33:17 PM</td>\n",
       "      <td>Closed</td>\n",
       "      <td>Other</td>\n",
       "      <td>Parks - Maintenance - WAM</td>\n",
       "      <td>CS - Calgary Parks</td>\n",
       "      <td>09Q</td>\n",
       "      <td>09Q</td>\n",
       "      <td>Community Centrepoint</td>\n",
       "      <td>-113.933857</td>\n",
       "      <td>51.023300</td>\n",
       "      <td>POINT (-113.933856934138 51.023300074168)</td>\n",
       "    </tr>\n",
       "    <tr>\n",
       "      <th>3163704</th>\n",
       "      <td>19-00511158</td>\n",
       "      <td>2019/06/11 03:56:19 PM</td>\n",
       "      <td>NaN</td>\n",
       "      <td>NaN</td>\n",
       "      <td>Duplicate (Open)</td>\n",
       "      <td>App</td>\n",
       "      <td>Bylaw - Tree - Shrub Infraction</td>\n",
       "      <td>CS - Calgary Community Standards</td>\n",
       "      <td>SPH</td>\n",
       "      <td>SPRINGBANK HILL</td>\n",
       "      <td>Community Centrepoint</td>\n",
       "      <td>-114.208458</td>\n",
       "      <td>51.026824</td>\n",
       "      <td>POINT (-114.208458271936 51.026824120988)</td>\n",
       "    </tr>\n",
       "  </tbody>\n",
       "</table>\n",
       "<p>77829 rows × 14 columns</p>\n",
       "</div>"
      ],
      "text/plain": [
       "        service_request_id          requested_date updated_date  \\\n",
       "3313253        12-00000218  2012/01/01 08:39:10 PM          NaN   \n",
       "3303534        12-00000225  2012/01/01 09:13:36 PM          NaN   \n",
       "3312753        12-00000039  2012/01/01 09:56:38 AM          NaN   \n",
       "3313744        12-00000045  2012/01/01 10:22:28 AM          NaN   \n",
       "3315691        12-00000048  2012/01/01 10:40:58 AM          NaN   \n",
       "...                    ...                     ...          ...   \n",
       "3158065        19-00492031  2019/06/06 11:37:05 AM          NaN   \n",
       "3158675        19-00497943  2019/06/07 03:43:25 PM          NaN   \n",
       "3156158        19-00499245  2019/06/08 11:02:51 AM          NaN   \n",
       "3163003        19-00506870  2019/06/10 08:29:08 PM          NaN   \n",
       "3163704        19-00511158  2019/06/11 03:56:19 PM          NaN   \n",
       "\n",
       "                    closed_date  status_description source  \\\n",
       "3313253  2012/01/24 01:45:43 PM  Duplicate (Closed)  Phone   \n",
       "3303534  2012/08/13 03:41:24 PM  Duplicate (Closed)  Phone   \n",
       "3312753  2012/01/01 09:56:38 AM              Closed  Phone   \n",
       "3313744  2012/01/01 10:22:28 AM              Closed  Phone   \n",
       "3315691  2012/01/01 10:40:58 AM              Closed  Phone   \n",
       "...                         ...                 ...    ...   \n",
       "3158065                     NaN    Duplicate (Open)    App   \n",
       "3158675  2019/06/07 06:46:12 PM  Duplicate (Closed)  Phone   \n",
       "3156158                     NaN    Duplicate (Open)  Phone   \n",
       "3163003  2019/06/10 08:33:17 PM              Closed  Other   \n",
       "3163704                     NaN    Duplicate (Open)    App   \n",
       "\n",
       "                                              service_name  \\\n",
       "3313253  Z - Roads - Streetlight - Many Out Residential...   \n",
       "3303534  Z - Roads - Streetlight - Many Out Residential...   \n",
       "3312753               311 - Animal Licence Request Tracker   \n",
       "3313744               311 - Animal Licence Request Tracker   \n",
       "3315691               311 - Animal Licence Request Tracker   \n",
       "...                                                    ...   \n",
       "3158065                    Bylaw - Tree - Shrub Infraction   \n",
       "3158675                               AS - Animal at Large   \n",
       "3156158       Development Compliance - Vehicle Infractions   \n",
       "3163003                          Parks - Maintenance - WAM   \n",
       "3163704                    Bylaw - Tree - Shrub Infraction   \n",
       "\n",
       "                       agency_responsible comm_code         comm_name  \\\n",
       "3313253                      TRAN - Roads       PAN    PANORAMA HILLS   \n",
       "3303534                      TRAN - Roads       MID         MIDNAPORE   \n",
       "3312753  CS - Calgary Community Standards       RIC          RICHMOND   \n",
       "3313744  CS - Calgary Community Standards       HUN  HUNTINGTON HILLS   \n",
       "3315691  CS - Calgary Community Standards       SDC          SUNDANCE   \n",
       "...                                   ...       ...               ...   \n",
       "3158065  CS - Calgary Community Standards       WHL    WEST HILLHURST   \n",
       "3158675  CS - Calgary Community Standards       HAY          HAYSBORO   \n",
       "3156158    PD - Calgary Building Services       TEM            TEMPLE   \n",
       "3163003                CS - Calgary Parks       09Q               09Q   \n",
       "3163704  CS - Calgary Community Standards       SPH   SPRINGBANK HILL   \n",
       "\n",
       "                 location_type   longitude   latitude  \\\n",
       "3313253  Community Centrepoint -114.088063  51.159711   \n",
       "3303534  Community Centrepoint -114.057615  50.915638   \n",
       "3312753  Community Centrepoint -114.118422  51.029705   \n",
       "3313744  Community Centrepoint -114.066709  51.117582   \n",
       "3315691  Community Centrepoint -114.042049  50.901555   \n",
       "...                        ...         ...        ...   \n",
       "3158065  Community Centrepoint -114.115156  51.055059   \n",
       "3158675  Community Centrepoint -114.083351  50.972214   \n",
       "3156158  Community Centrepoint -113.946768  51.088795   \n",
       "3163003  Community Centrepoint -113.933857  51.023300   \n",
       "3163704  Community Centrepoint -114.208458  51.026824   \n",
       "\n",
       "                                                point  \n",
       "3313253  POINT (-114.088063406263 51.159711011076006)  \n",
       "3303534     POINT (-114.057614948384 50.915638474664)  \n",
       "3312753   POINT (-114.11842246883901 51.029705434695)  \n",
       "3313744     POINT (-114.066709443959 51.117582291839)  \n",
       "3315691      POINT (-114.04204857668 50.901555104863)  \n",
       "...                                               ...  \n",
       "3158065     POINT (-114.115155739639 51.055058817012)  \n",
       "3158675   POINT (-114.08335089480701 50.972214404313)  \n",
       "3156158     POINT (-113.946767736659 51.088794585093)  \n",
       "3163003     POINT (-113.933856934138 51.023300074168)  \n",
       "3163704     POINT (-114.208458271936 51.026824120988)  \n",
       "\n",
       "[77829 rows x 14 columns]"
      ]
     },
     "execution_count": 9,
     "metadata": {},
     "output_type": "execute_result"
    }
   ],
   "source": [
    "# to look at rows where an update date is null, ordered by request date\n",
    "service_req_df[service_req_df['updated_date'].isnull()].sort_values(by='requested_date')"
   ]
  },
  {
   "cell_type": "code",
   "execution_count": 10,
   "id": "aa86dc97-ebfe-4007-9505-f265b233b728",
   "metadata": {},
   "outputs": [],
   "source": [
    "# Based on the above nulls in the updated_date column will be ignored as not all requets get an update before being closed"
   ]
  },
  {
   "cell_type": "code",
   "execution_count": 11,
   "id": "b10ae2bc-98b3-4c24-a56b-b87ae3dd687a",
   "metadata": {},
   "outputs": [
    {
     "data": {
      "text/plain": [
       "False    3867952\n",
       "True     2220957\n",
       "Name: closed_date, dtype: int64"
      ]
     },
     "execution_count": 11,
     "metadata": {},
     "output_type": "execute_result"
    }
   ],
   "source": [
    "# Check the number of rows with a time of 12:00:00 AM\n",
    "service_req_df['closed_date'].str.endswith('12:00:00 AM').value_counts()\n",
    "# service_req_df['requested_date'].str.endswith('12:00:00 AM').value_counts()"
   ]
  },
  {
   "cell_type": "code",
   "execution_count": 12,
   "id": "2ab866ec-6c05-401d-869e-46799fb93dfe",
   "metadata": {},
   "outputs": [
    {
     "data": {
      "text/plain": [
       "36.12710284630475"
      ]
     },
     "execution_count": 12,
     "metadata": {},
     "output_type": "execute_result"
    }
   ],
   "source": [
    "# Count the occurrences of rows with '12:00:00 AM' in the 'closed_date' column\n",
    "count_12_am_closed = service_req_df['closed_date'].str.endswith('12:00:00 AM').sum()\n",
    "\n",
    "# Calculate the total number of rows\n",
    "total_rows = len(service_req_df)\n",
    "\n",
    "# Calculate the percentage of rows with '12:00:00 AM'\n",
    "percentage_12_am = (count_12_am_closed / total_rows) * 100\n",
    "percentage_12_am"
   ]
  },
  {
   "cell_type": "markdown",
   "id": "7910a92c-9d41-4b3c-bb31-cb878238c482",
   "metadata": {},
   "source": [
    "#### converting datatypes"
   ]
  },
  {
   "cell_type": "code",
   "execution_count": 7,
   "id": "1ce290ab-bc14-4f8c-b86e-4ae4bcad6c96",
   "metadata": {},
   "outputs": [
    {
     "data": {
      "text/html": [
       "<div>\n",
       "<style scoped>\n",
       "    .dataframe tbody tr th:only-of-type {\n",
       "        vertical-align: middle;\n",
       "    }\n",
       "\n",
       "    .dataframe tbody tr th {\n",
       "        vertical-align: top;\n",
       "    }\n",
       "\n",
       "    .dataframe thead th {\n",
       "        text-align: right;\n",
       "    }\n",
       "</style>\n",
       "<table border=\"1\" class=\"dataframe\">\n",
       "  <thead>\n",
       "    <tr style=\"text-align: right;\">\n",
       "      <th></th>\n",
       "      <th>service_request_id</th>\n",
       "      <th>requested_date</th>\n",
       "      <th>updated_date</th>\n",
       "      <th>closed_date</th>\n",
       "      <th>status_description</th>\n",
       "      <th>source</th>\n",
       "      <th>service_name</th>\n",
       "      <th>agency_responsible</th>\n",
       "      <th>comm_code</th>\n",
       "      <th>comm_name</th>\n",
       "      <th>location_type</th>\n",
       "      <th>longitude</th>\n",
       "      <th>latitude</th>\n",
       "      <th>point</th>\n",
       "    </tr>\n",
       "  </thead>\n",
       "  <tbody>\n",
       "    <tr>\n",
       "      <th>0</th>\n",
       "      <td>18-01017964</td>\n",
       "      <td>2018-10-17</td>\n",
       "      <td>2020-06-24</td>\n",
       "      <td>2020-06-24</td>\n",
       "      <td>Closed</td>\n",
       "      <td>Phone</td>\n",
       "      <td>Roads - Traffic Signal Timing Inquiry</td>\n",
       "      <td>TRAN - Roads</td>\n",
       "      <td>SHN</td>\n",
       "      <td>SHAWNESSY</td>\n",
       "      <td>Community Centrepoint</td>\n",
       "      <td>-114.073757</td>\n",
       "      <td>50.903303</td>\n",
       "      <td>POINT (-114.073756821499 50.903303329478)</td>\n",
       "    </tr>\n",
       "    <tr>\n",
       "      <th>1</th>\n",
       "      <td>18-01094780</td>\n",
       "      <td>2018-11-12</td>\n",
       "      <td>2020-06-24</td>\n",
       "      <td>2020-06-24</td>\n",
       "      <td>Closed</td>\n",
       "      <td>App</td>\n",
       "      <td>Roads - Traffic Signal Timing Inquiry</td>\n",
       "      <td>TRAN - Roads</td>\n",
       "      <td>DAL</td>\n",
       "      <td>DALHOUSIE</td>\n",
       "      <td>Community Centrepoint</td>\n",
       "      <td>-114.158165</td>\n",
       "      <td>51.109414</td>\n",
       "      <td>POINT (-114.158164615208 51.109413833961)</td>\n",
       "    </tr>\n",
       "  </tbody>\n",
       "</table>\n",
       "</div>"
      ],
      "text/plain": [
       "  service_request_id requested_date updated_date closed_date  \\\n",
       "0        18-01017964     2018-10-17   2020-06-24  2020-06-24   \n",
       "1        18-01094780     2018-11-12   2020-06-24  2020-06-24   \n",
       "\n",
       "  status_description source                           service_name  \\\n",
       "0             Closed  Phone  Roads - Traffic Signal Timing Inquiry   \n",
       "1             Closed    App  Roads - Traffic Signal Timing Inquiry   \n",
       "\n",
       "  agency_responsible comm_code  comm_name          location_type   longitude  \\\n",
       "0       TRAN - Roads       SHN  SHAWNESSY  Community Centrepoint -114.073757   \n",
       "1       TRAN - Roads       DAL  DALHOUSIE  Community Centrepoint -114.158165   \n",
       "\n",
       "    latitude                                      point  \n",
       "0  50.903303  POINT (-114.073756821499 50.903303329478)  \n",
       "1  51.109414  POINT (-114.158164615208 51.109413833961)  "
      ]
     },
     "execution_count": 7,
     "metadata": {},
     "output_type": "execute_result"
    }
   ],
   "source": [
    "# converting requested_date, updated_date_ and closed_date to a datetime type\n",
    "converted_sr_df = service_req_df  # new DF variable\n",
    "converted_sr_df['requested_date'] = pd.to_datetime(service_req_df['requested_date'])\n",
    "converted_sr_df['updated_date'] = pd.to_datetime(service_req_df['updated_date'])\n",
    "converted_sr_df['closed_date'] = pd.to_datetime(service_req_df['closed_date'])\n",
    "\n",
    "converted_sr_df.head(2)\n",
    "# this is dropping the time part of the data but that's acceptable as roughly 1/3 has the generic 12 AM timestamp which is not usefull for this analysis"
   ]
  },
  {
   "cell_type": "code",
   "execution_count": 8,
   "id": "b02ada92-9648-48ad-8e96-544f00099779",
   "metadata": {
    "tags": []
   },
   "outputs": [],
   "source": [
    "# Dropping rows so that request date is Jan 1 2017 or later to scale down data size\n",
    "\n",
    "# filter rows based on the request date condition\n",
    "SR_201724_df = converted_sr_df[converted_sr_df['requested_date'] >= '2017-01-01']"
   ]
  },
  {
   "cell_type": "code",
   "execution_count": 9,
   "id": "ed2aef63-2073-4d21-af48-d5e3f09e14c5",
   "metadata": {},
   "outputs": [
    {
     "name": "stdout",
     "output_type": "stream",
     "text": [
      "<class 'pandas.core.frame.DataFrame'>\n",
      "Int64Index: 3639415 entries, 0 to 6147619\n",
      "Data columns (total 14 columns):\n",
      " #   Column              Dtype         \n",
      "---  ------              -----         \n",
      " 0   service_request_id  object        \n",
      " 1   requested_date      datetime64[ns]\n",
      " 2   updated_date        datetime64[ns]\n",
      " 3   closed_date         datetime64[ns]\n",
      " 4   status_description  object        \n",
      " 5   source              object        \n",
      " 6   service_name        object        \n",
      " 7   agency_responsible  object        \n",
      " 8   comm_code           object        \n",
      " 9   comm_name           object        \n",
      " 10  location_type       object        \n",
      " 11  longitude           float64       \n",
      " 12  latitude            float64       \n",
      " 13  point               object        \n",
      "dtypes: datetime64[ns](3), float64(2), object(9)\n",
      "memory usage: 416.5+ MB\n"
     ]
    }
   ],
   "source": [
    "# SR_201724_df.shape\n",
    "SR_201724_df.info()\n",
    "# SR_201724_df.head(1)"
   ]
  },
  {
   "cell_type": "code",
   "execution_count": 16,
   "id": "dd90b3eb-a619-429e-b71b-906e7f10b8a7",
   "metadata": {},
   "outputs": [
    {
     "data": {
      "text/plain": [
       "longitude             208316\n",
       "latitude              208316\n",
       "point                 208316\n",
       "comm_code             208256\n",
       "comm_name             208231\n",
       "closed_date            58612\n",
       "service_name            8741\n",
       "updated_date            8308\n",
       "agency_responsible        56\n",
       "service_request_id         0\n",
       "requested_date             0\n",
       "status_description         0\n",
       "source                     0\n",
       "location_type              0\n",
       "dtype: int64"
      ]
     },
     "execution_count": 16,
     "metadata": {},
     "output_type": "execute_result"
    }
   ],
   "source": [
    "# checking null counts again\n",
    "SR_201724_df.isnull().sum().sort_values(ascending=False)"
   ]
  },
  {
   "cell_type": "code",
   "execution_count": 17,
   "id": "54672cef-44b8-482c-9eae-1cde7fb26523",
   "metadata": {},
   "outputs": [
    {
     "data": {
      "text/plain": [
       "Closed                3522878\n",
       "Open                    59917\n",
       "Duplicate (Closed)      55612\n",
       "Duplicate (Open)          905\n",
       "TO BE DELETED             103\n",
       "Name: status_description, dtype: int64"
      ]
     },
     "execution_count": 17,
     "metadata": {},
     "output_type": "execute_result"
    }
   ],
   "source": [
    "# checking values in status_description\n",
    "SR_201724_df['status_description'].value_counts()"
   ]
  },
  {
   "cell_type": "code",
   "execution_count": 10,
   "id": "893110ab-6c29-41db-96f3-34cfb137af63",
   "metadata": {},
   "outputs": [],
   "source": [
    "# droping rows with certain statuses \n",
    "exclude_statuses =  ['Duplicate (Closed)', 'Duplicate (Open)', 'TO BE DELETED']\n",
    "\n",
    "# Filter rows based on the condition\n",
    "SR_201724_df_status_filtered = SR_201724_df[~SR_201724_df['status_description'].isin(exclude_statuses)]"
   ]
  },
  {
   "cell_type": "code",
   "execution_count": 11,
   "id": "f9d80cb8-c103-445d-830b-0238fee67a78",
   "metadata": {},
   "outputs": [
    {
     "name": "stdout",
     "output_type": "stream",
     "text": [
      "<class 'pandas.core.frame.DataFrame'>\n",
      "Int64Index: 3582795 entries, 0 to 6147619\n",
      "Data columns (total 14 columns):\n",
      " #   Column              Dtype         \n",
      "---  ------              -----         \n",
      " 0   service_request_id  object        \n",
      " 1   requested_date      datetime64[ns]\n",
      " 2   updated_date        datetime64[ns]\n",
      " 3   closed_date         datetime64[ns]\n",
      " 4   status_description  object        \n",
      " 5   source              object        \n",
      " 6   service_name        object        \n",
      " 7   agency_responsible  object        \n",
      " 8   comm_code           object        \n",
      " 9   comm_name           object        \n",
      " 10  location_type       object        \n",
      " 11  longitude           float64       \n",
      " 12  latitude            float64       \n",
      " 13  point               object        \n",
      "dtypes: datetime64[ns](3), float64(2), object(9)\n",
      "memory usage: 410.0+ MB\n"
     ]
    }
   ],
   "source": [
    "SR_201724_df_status_filtered.info()"
   ]
  },
  {
   "cell_type": "markdown",
   "id": "e9dc40d4-5a96-4b0d-9e87-55a2605b7c3f",
   "metadata": {},
   "source": [
    "### Save DataFrame as separate CSV\n",
    "---"
   ]
  },
  {
   "cell_type": "code",
   "execution_count": null,
   "id": "cd1cdcbd-7ff6-4d2b-9461-33a792dcde51",
   "metadata": {},
   "outputs": [],
   "source": [
    "# Save the DataFrame to a CSV file\n",
    "SR_201724_df_status_filtered.to_csv('service_requests_cleaned.csv', index=False)  # Set index=False to avoid saving row indices"
   ]
  },
  {
   "cell_type": "markdown",
   "id": "5775a9fd-eef0-44da-a481-0bdd61f437c1",
   "metadata": {},
   "source": [
    "### Adding column for requst completion time\n",
    "---"
   ]
  },
  {
   "cell_type": "code",
   "execution_count": 33,
   "id": "37abab5c-89b6-469f-8e3f-2f8314b7847b",
   "metadata": {},
   "outputs": [
    {
     "ename": "MemoryError",
     "evalue": "Unable to allocate 27.3 MiB for an array with shape (3582795,) and data type int64",
     "output_type": "error",
     "traceback": [
      "\u001b[1;31m---------------------------------------------------------------------------\u001b[0m",
      "\u001b[1;31mMemoryError\u001b[0m                               Traceback (most recent call last)",
      "Input \u001b[1;32mIn [33]\u001b[0m, in \u001b[0;36m<cell line: 6>\u001b[1;34m()\u001b[0m\n\u001b[0;32m      3\u001b[0m     \u001b[38;5;28;01mreturn\u001b[39;00m SR_201724_df_status_filtered[\u001b[38;5;124m'\u001b[39m\u001b[38;5;124mclosed_date\u001b[39m\u001b[38;5;124m'\u001b[39m] \u001b[38;5;241m-\u001b[39m SR_201724_df_status_filtered[\u001b[38;5;124m'\u001b[39m\u001b[38;5;124mrequested_date\u001b[39m\u001b[38;5;124m'\u001b[39m]\n\u001b[0;32m      5\u001b[0m \u001b[38;5;66;03m# apply to DF\u001b[39;00m\n\u001b[1;32m----> 6\u001b[0m SR_201724_df_status_filtered[\u001b[38;5;124m'\u001b[39m\u001b[38;5;124mdays_to_complete\u001b[39m\u001b[38;5;124m'\u001b[39m] \u001b[38;5;241m=\u001b[39m \u001b[43mSR_201724_df_status_filtered\u001b[49m\u001b[38;5;241;43m.\u001b[39;49m\u001b[43mapply\u001b[49m\u001b[43m(\u001b[49m\u001b[43mcompletion_time\u001b[49m\u001b[43m,\u001b[49m\u001b[43m \u001b[49m\u001b[43maxis\u001b[49m\u001b[38;5;241;43m=\u001b[39;49m\u001b[38;5;241;43m1\u001b[39;49m\u001b[43m)\u001b[49m\n",
      "File \u001b[1;32m~\\anaconda3\\lib\\site-packages\\pandas\\core\\frame.py:8839\u001b[0m, in \u001b[0;36mDataFrame.apply\u001b[1;34m(self, func, axis, raw, result_type, args, **kwargs)\u001b[0m\n\u001b[0;32m   8828\u001b[0m \u001b[38;5;28;01mfrom\u001b[39;00m \u001b[38;5;21;01mpandas\u001b[39;00m\u001b[38;5;21;01m.\u001b[39;00m\u001b[38;5;21;01mcore\u001b[39;00m\u001b[38;5;21;01m.\u001b[39;00m\u001b[38;5;21;01mapply\u001b[39;00m \u001b[38;5;28;01mimport\u001b[39;00m frame_apply\n\u001b[0;32m   8830\u001b[0m op \u001b[38;5;241m=\u001b[39m frame_apply(\n\u001b[0;32m   8831\u001b[0m     \u001b[38;5;28mself\u001b[39m,\n\u001b[0;32m   8832\u001b[0m     func\u001b[38;5;241m=\u001b[39mfunc,\n\u001b[1;32m   (...)\u001b[0m\n\u001b[0;32m   8837\u001b[0m     kwargs\u001b[38;5;241m=\u001b[39mkwargs,\n\u001b[0;32m   8838\u001b[0m )\n\u001b[1;32m-> 8839\u001b[0m \u001b[38;5;28;01mreturn\u001b[39;00m \u001b[43mop\u001b[49m\u001b[38;5;241;43m.\u001b[39;49m\u001b[43mapply\u001b[49m\u001b[43m(\u001b[49m\u001b[43m)\u001b[49m\u001b[38;5;241m.\u001b[39m__finalize__(\u001b[38;5;28mself\u001b[39m, method\u001b[38;5;241m=\u001b[39m\u001b[38;5;124m\"\u001b[39m\u001b[38;5;124mapply\u001b[39m\u001b[38;5;124m\"\u001b[39m)\n",
      "File \u001b[1;32m~\\anaconda3\\lib\\site-packages\\pandas\\core\\apply.py:727\u001b[0m, in \u001b[0;36mFrameApply.apply\u001b[1;34m(self)\u001b[0m\n\u001b[0;32m    724\u001b[0m \u001b[38;5;28;01melif\u001b[39;00m \u001b[38;5;28mself\u001b[39m\u001b[38;5;241m.\u001b[39mraw:\n\u001b[0;32m    725\u001b[0m     \u001b[38;5;28;01mreturn\u001b[39;00m \u001b[38;5;28mself\u001b[39m\u001b[38;5;241m.\u001b[39mapply_raw()\n\u001b[1;32m--> 727\u001b[0m \u001b[38;5;28;01mreturn\u001b[39;00m \u001b[38;5;28;43mself\u001b[39;49m\u001b[38;5;241;43m.\u001b[39;49m\u001b[43mapply_standard\u001b[49m\u001b[43m(\u001b[49m\u001b[43m)\u001b[49m\n",
      "File \u001b[1;32m~\\anaconda3\\lib\\site-packages\\pandas\\core\\apply.py:851\u001b[0m, in \u001b[0;36mFrameApply.apply_standard\u001b[1;34m(self)\u001b[0m\n\u001b[0;32m    850\u001b[0m \u001b[38;5;28;01mdef\u001b[39;00m \u001b[38;5;21mapply_standard\u001b[39m(\u001b[38;5;28mself\u001b[39m):\n\u001b[1;32m--> 851\u001b[0m     results, res_index \u001b[38;5;241m=\u001b[39m \u001b[38;5;28;43mself\u001b[39;49m\u001b[38;5;241;43m.\u001b[39;49m\u001b[43mapply_series_generator\u001b[49m\u001b[43m(\u001b[49m\u001b[43m)\u001b[49m\n\u001b[0;32m    853\u001b[0m     \u001b[38;5;66;03m# wrap results\u001b[39;00m\n\u001b[0;32m    854\u001b[0m     \u001b[38;5;28;01mreturn\u001b[39;00m \u001b[38;5;28mself\u001b[39m\u001b[38;5;241m.\u001b[39mwrap_results(results, res_index)\n",
      "File \u001b[1;32m~\\anaconda3\\lib\\site-packages\\pandas\\core\\apply.py:867\u001b[0m, in \u001b[0;36mFrameApply.apply_series_generator\u001b[1;34m(self)\u001b[0m\n\u001b[0;32m    864\u001b[0m \u001b[38;5;28;01mwith\u001b[39;00m option_context(\u001b[38;5;124m\"\u001b[39m\u001b[38;5;124mmode.chained_assignment\u001b[39m\u001b[38;5;124m\"\u001b[39m, \u001b[38;5;28;01mNone\u001b[39;00m):\n\u001b[0;32m    865\u001b[0m     \u001b[38;5;28;01mfor\u001b[39;00m i, v \u001b[38;5;129;01min\u001b[39;00m \u001b[38;5;28menumerate\u001b[39m(series_gen):\n\u001b[0;32m    866\u001b[0m         \u001b[38;5;66;03m# ignore SettingWithCopy here in case the user mutates\u001b[39;00m\n\u001b[1;32m--> 867\u001b[0m         results[i] \u001b[38;5;241m=\u001b[39m \u001b[38;5;28;43mself\u001b[39;49m\u001b[38;5;241;43m.\u001b[39;49m\u001b[43mf\u001b[49m\u001b[43m(\u001b[49m\u001b[43mv\u001b[49m\u001b[43m)\u001b[49m\n\u001b[0;32m    868\u001b[0m         \u001b[38;5;28;01mif\u001b[39;00m \u001b[38;5;28misinstance\u001b[39m(results[i], ABCSeries):\n\u001b[0;32m    869\u001b[0m             \u001b[38;5;66;03m# If we have a view on v, we need to make a copy because\u001b[39;00m\n\u001b[0;32m    870\u001b[0m             \u001b[38;5;66;03m#  series_generator will swap out the underlying data\u001b[39;00m\n\u001b[0;32m    871\u001b[0m             results[i] \u001b[38;5;241m=\u001b[39m results[i]\u001b[38;5;241m.\u001b[39mcopy(deep\u001b[38;5;241m=\u001b[39m\u001b[38;5;28;01mFalse\u001b[39;00m)\n",
      "Input \u001b[1;32mIn [33]\u001b[0m, in \u001b[0;36mcompletion_time\u001b[1;34m(row)\u001b[0m\n\u001b[0;32m      2\u001b[0m \u001b[38;5;28;01mdef\u001b[39;00m \u001b[38;5;21mcompletion_time\u001b[39m(row):\n\u001b[1;32m----> 3\u001b[0m     \u001b[38;5;28;01mreturn\u001b[39;00m \u001b[43mSR_201724_df_status_filtered\u001b[49m\u001b[43m[\u001b[49m\u001b[38;5;124;43m'\u001b[39;49m\u001b[38;5;124;43mclosed_date\u001b[39;49m\u001b[38;5;124;43m'\u001b[39;49m\u001b[43m]\u001b[49m\u001b[43m \u001b[49m\u001b[38;5;241;43m-\u001b[39;49m\u001b[43m \u001b[49m\u001b[43mSR_201724_df_status_filtered\u001b[49m\u001b[43m[\u001b[49m\u001b[38;5;124;43m'\u001b[39;49m\u001b[38;5;124;43mrequested_date\u001b[39;49m\u001b[38;5;124;43m'\u001b[39;49m\u001b[43m]\u001b[49m\n",
      "File \u001b[1;32m~\\anaconda3\\lib\\site-packages\\pandas\\core\\ops\\common.py:70\u001b[0m, in \u001b[0;36m_unpack_zerodim_and_defer.<locals>.new_method\u001b[1;34m(self, other)\u001b[0m\n\u001b[0;32m     66\u001b[0m             \u001b[38;5;28;01mreturn\u001b[39;00m \u001b[38;5;28mNotImplemented\u001b[39m\n\u001b[0;32m     68\u001b[0m other \u001b[38;5;241m=\u001b[39m item_from_zerodim(other)\n\u001b[1;32m---> 70\u001b[0m \u001b[38;5;28;01mreturn\u001b[39;00m \u001b[43mmethod\u001b[49m\u001b[43m(\u001b[49m\u001b[38;5;28;43mself\u001b[39;49m\u001b[43m,\u001b[49m\u001b[43m \u001b[49m\u001b[43mother\u001b[49m\u001b[43m)\u001b[49m\n",
      "File \u001b[1;32m~\\anaconda3\\lib\\site-packages\\pandas\\core\\arraylike.py:108\u001b[0m, in \u001b[0;36mOpsMixin.__sub__\u001b[1;34m(self, other)\u001b[0m\n\u001b[0;32m    106\u001b[0m \u001b[38;5;129m@unpack_zerodim_and_defer\u001b[39m(\u001b[38;5;124m\"\u001b[39m\u001b[38;5;124m__sub__\u001b[39m\u001b[38;5;124m\"\u001b[39m)\n\u001b[0;32m    107\u001b[0m \u001b[38;5;28;01mdef\u001b[39;00m \u001b[38;5;21m__sub__\u001b[39m(\u001b[38;5;28mself\u001b[39m, other):\n\u001b[1;32m--> 108\u001b[0m     \u001b[38;5;28;01mreturn\u001b[39;00m \u001b[38;5;28;43mself\u001b[39;49m\u001b[38;5;241;43m.\u001b[39;49m\u001b[43m_arith_method\u001b[49m\u001b[43m(\u001b[49m\u001b[43mother\u001b[49m\u001b[43m,\u001b[49m\u001b[43m \u001b[49m\u001b[43moperator\u001b[49m\u001b[38;5;241;43m.\u001b[39;49m\u001b[43msub\u001b[49m\u001b[43m)\u001b[49m\n",
      "File \u001b[1;32m~\\anaconda3\\lib\\site-packages\\pandas\\core\\series.py:5639\u001b[0m, in \u001b[0;36mSeries._arith_method\u001b[1;34m(self, other, op)\u001b[0m\n\u001b[0;32m   5637\u001b[0m \u001b[38;5;28;01mdef\u001b[39;00m \u001b[38;5;21m_arith_method\u001b[39m(\u001b[38;5;28mself\u001b[39m, other, op):\n\u001b[0;32m   5638\u001b[0m     \u001b[38;5;28mself\u001b[39m, other \u001b[38;5;241m=\u001b[39m ops\u001b[38;5;241m.\u001b[39malign_method_SERIES(\u001b[38;5;28mself\u001b[39m, other)\n\u001b[1;32m-> 5639\u001b[0m     \u001b[38;5;28;01mreturn\u001b[39;00m \u001b[43mbase\u001b[49m\u001b[38;5;241;43m.\u001b[39;49m\u001b[43mIndexOpsMixin\u001b[49m\u001b[38;5;241;43m.\u001b[39;49m\u001b[43m_arith_method\u001b[49m\u001b[43m(\u001b[49m\u001b[38;5;28;43mself\u001b[39;49m\u001b[43m,\u001b[49m\u001b[43m \u001b[49m\u001b[43mother\u001b[49m\u001b[43m,\u001b[49m\u001b[43m \u001b[49m\u001b[43mop\u001b[49m\u001b[43m)\u001b[49m\n",
      "File \u001b[1;32m~\\anaconda3\\lib\\site-packages\\pandas\\core\\base.py:1295\u001b[0m, in \u001b[0;36mIndexOpsMixin._arith_method\u001b[1;34m(self, other, op)\u001b[0m\n\u001b[0;32m   1292\u001b[0m rvalues \u001b[38;5;241m=\u001b[39m ensure_wrapped_if_datetimelike(rvalues)\n\u001b[0;32m   1294\u001b[0m \u001b[38;5;28;01mwith\u001b[39;00m np\u001b[38;5;241m.\u001b[39merrstate(\u001b[38;5;28mall\u001b[39m\u001b[38;5;241m=\u001b[39m\u001b[38;5;124m\"\u001b[39m\u001b[38;5;124mignore\u001b[39m\u001b[38;5;124m\"\u001b[39m):\n\u001b[1;32m-> 1295\u001b[0m     result \u001b[38;5;241m=\u001b[39m \u001b[43mops\u001b[49m\u001b[38;5;241;43m.\u001b[39;49m\u001b[43marithmetic_op\u001b[49m\u001b[43m(\u001b[49m\u001b[43mlvalues\u001b[49m\u001b[43m,\u001b[49m\u001b[43m \u001b[49m\u001b[43mrvalues\u001b[49m\u001b[43m,\u001b[49m\u001b[43m \u001b[49m\u001b[43mop\u001b[49m\u001b[43m)\u001b[49m\n\u001b[0;32m   1297\u001b[0m \u001b[38;5;28;01mreturn\u001b[39;00m \u001b[38;5;28mself\u001b[39m\u001b[38;5;241m.\u001b[39m_construct_result(result, name\u001b[38;5;241m=\u001b[39mres_name)\n",
      "File \u001b[1;32m~\\anaconda3\\lib\\site-packages\\pandas\\core\\ops\\array_ops.py:216\u001b[0m, in \u001b[0;36marithmetic_op\u001b[1;34m(left, right, op)\u001b[0m\n\u001b[0;32m    203\u001b[0m \u001b[38;5;66;03m# NB: We assume that extract_array and ensure_wrapped_if_datetimelike\u001b[39;00m\n\u001b[0;32m    204\u001b[0m \u001b[38;5;66;03m#  have already been called on `left` and `right`,\u001b[39;00m\n\u001b[0;32m    205\u001b[0m \u001b[38;5;66;03m#  and `maybe_prepare_scalar_for_op` has already been called on `right`\u001b[39;00m\n\u001b[0;32m    206\u001b[0m \u001b[38;5;66;03m# We need to special-case datetime64/timedelta64 dtypes (e.g. because numpy\u001b[39;00m\n\u001b[0;32m    207\u001b[0m \u001b[38;5;66;03m# casts integer dtypes to timedelta64 when operating with timedelta64 - GH#22390)\u001b[39;00m\n\u001b[0;32m    209\u001b[0m \u001b[38;5;28;01mif\u001b[39;00m (\n\u001b[0;32m    210\u001b[0m     should_extension_dispatch(left, right)\n\u001b[0;32m    211\u001b[0m     \u001b[38;5;129;01mor\u001b[39;00m \u001b[38;5;28misinstance\u001b[39m(right, (Timedelta, BaseOffset, Timestamp))\n\u001b[1;32m   (...)\u001b[0m\n\u001b[0;32m    214\u001b[0m     \u001b[38;5;66;03m# Timedelta/Timestamp and other custom scalars are included in the check\u001b[39;00m\n\u001b[0;32m    215\u001b[0m     \u001b[38;5;66;03m# because numexpr will fail on it, see GH#31457\u001b[39;00m\n\u001b[1;32m--> 216\u001b[0m     res_values \u001b[38;5;241m=\u001b[39m \u001b[43mop\u001b[49m\u001b[43m(\u001b[49m\u001b[43mleft\u001b[49m\u001b[43m,\u001b[49m\u001b[43m \u001b[49m\u001b[43mright\u001b[49m\u001b[43m)\u001b[49m\n\u001b[0;32m    217\u001b[0m \u001b[38;5;28;01melse\u001b[39;00m:\n\u001b[0;32m    218\u001b[0m     \u001b[38;5;66;03m# TODO we should handle EAs consistently and move this check before the if/else\u001b[39;00m\n\u001b[0;32m    219\u001b[0m     \u001b[38;5;66;03m# (https://github.com/pandas-dev/pandas/issues/41165)\u001b[39;00m\n\u001b[0;32m    220\u001b[0m     _bool_arith_check(op, left, right)\n",
      "File \u001b[1;32m~\\anaconda3\\lib\\site-packages\\pandas\\core\\ops\\common.py:70\u001b[0m, in \u001b[0;36m_unpack_zerodim_and_defer.<locals>.new_method\u001b[1;34m(self, other)\u001b[0m\n\u001b[0;32m     66\u001b[0m             \u001b[38;5;28;01mreturn\u001b[39;00m \u001b[38;5;28mNotImplemented\u001b[39m\n\u001b[0;32m     68\u001b[0m other \u001b[38;5;241m=\u001b[39m item_from_zerodim(other)\n\u001b[1;32m---> 70\u001b[0m \u001b[38;5;28;01mreturn\u001b[39;00m \u001b[43mmethod\u001b[49m\u001b[43m(\u001b[49m\u001b[38;5;28;43mself\u001b[39;49m\u001b[43m,\u001b[49m\u001b[43m \u001b[49m\u001b[43mother\u001b[49m\u001b[43m)\u001b[49m\n",
      "File \u001b[1;32m~\\anaconda3\\lib\\site-packages\\pandas\\core\\arrays\\datetimelike.py:1340\u001b[0m, in \u001b[0;36mDatetimeLikeArrayMixin.__sub__\u001b[1;34m(self, other)\u001b[0m\n\u001b[0;32m   1337\u001b[0m     result \u001b[38;5;241m=\u001b[39m \u001b[38;5;28mself\u001b[39m\u001b[38;5;241m.\u001b[39m_addsub_object_array(other, operator\u001b[38;5;241m.\u001b[39msub)\n\u001b[0;32m   1338\u001b[0m \u001b[38;5;28;01melif\u001b[39;00m is_datetime64_dtype(other_dtype) \u001b[38;5;129;01mor\u001b[39;00m is_datetime64tz_dtype(other_dtype):\n\u001b[0;32m   1339\u001b[0m     \u001b[38;5;66;03m# DatetimeIndex, ndarray[datetime64]\u001b[39;00m\n\u001b[1;32m-> 1340\u001b[0m     result \u001b[38;5;241m=\u001b[39m \u001b[38;5;28;43mself\u001b[39;49m\u001b[38;5;241;43m.\u001b[39;49m\u001b[43m_sub_datetime_arraylike\u001b[49m\u001b[43m(\u001b[49m\u001b[43mother\u001b[49m\u001b[43m)\u001b[49m\n\u001b[0;32m   1341\u001b[0m \u001b[38;5;28;01melif\u001b[39;00m is_period_dtype(other_dtype):\n\u001b[0;32m   1342\u001b[0m     \u001b[38;5;66;03m# PeriodIndex\u001b[39;00m\n\u001b[0;32m   1343\u001b[0m     result \u001b[38;5;241m=\u001b[39m \u001b[38;5;28mself\u001b[39m\u001b[38;5;241m.\u001b[39m_sub_period_array(other)\n",
      "File \u001b[1;32m~\\anaconda3\\lib\\site-packages\\pandas\\core\\arrays\\datetimes.py:740\u001b[0m, in \u001b[0;36mDatetimeArray._sub_datetime_arraylike\u001b[1;34m(self, other)\u001b[0m\n\u001b[0;32m    738\u001b[0m other_i8 \u001b[38;5;241m=\u001b[39m other\u001b[38;5;241m.\u001b[39masi8\n\u001b[0;32m    739\u001b[0m arr_mask \u001b[38;5;241m=\u001b[39m \u001b[38;5;28mself\u001b[39m\u001b[38;5;241m.\u001b[39m_isnan \u001b[38;5;241m|\u001b[39m other\u001b[38;5;241m.\u001b[39m_isnan\n\u001b[1;32m--> 740\u001b[0m new_values \u001b[38;5;241m=\u001b[39m \u001b[43mchecked_add_with_arr\u001b[49m\u001b[43m(\u001b[49m\u001b[43mself_i8\u001b[49m\u001b[43m,\u001b[49m\u001b[43m \u001b[49m\u001b[38;5;241;43m-\u001b[39;49m\u001b[43mother_i8\u001b[49m\u001b[43m,\u001b[49m\u001b[43m \u001b[49m\u001b[43marr_mask\u001b[49m\u001b[38;5;241;43m=\u001b[39;49m\u001b[43marr_mask\u001b[49m\u001b[43m)\u001b[49m\n\u001b[0;32m    741\u001b[0m \u001b[38;5;28;01mif\u001b[39;00m \u001b[38;5;28mself\u001b[39m\u001b[38;5;241m.\u001b[39m_hasna \u001b[38;5;129;01mor\u001b[39;00m other\u001b[38;5;241m.\u001b[39m_hasna:\n\u001b[0;32m    742\u001b[0m     np\u001b[38;5;241m.\u001b[39mputmask(new_values, arr_mask, iNaT)\n",
      "File \u001b[1;32m~\\anaconda3\\lib\\site-packages\\pandas\\core\\algorithms.py:1105\u001b[0m, in \u001b[0;36mchecked_add_with_arr\u001b[1;34m(arr, b, arr_mask, b_mask)\u001b[0m\n\u001b[0;32m   1102\u001b[0m mask2 \u001b[38;5;241m=\u001b[39m b2 \u001b[38;5;241m<\u001b[39m \u001b[38;5;241m0\u001b[39m\n\u001b[0;32m   1104\u001b[0m \u001b[38;5;28;01mif\u001b[39;00m \u001b[38;5;129;01mnot\u001b[39;00m mask1\u001b[38;5;241m.\u001b[39many():\n\u001b[1;32m-> 1105\u001b[0m     to_raise \u001b[38;5;241m=\u001b[39m ((\u001b[43mi8min\u001b[49m\u001b[43m \u001b[49m\u001b[38;5;241;43m-\u001b[39;49m\u001b[43m \u001b[49m\u001b[43mb2\u001b[49m \u001b[38;5;241m>\u001b[39m arr) \u001b[38;5;241m&\u001b[39m not_nan)\u001b[38;5;241m.\u001b[39many()\n\u001b[0;32m   1106\u001b[0m \u001b[38;5;28;01melif\u001b[39;00m \u001b[38;5;129;01mnot\u001b[39;00m mask2\u001b[38;5;241m.\u001b[39many():\n\u001b[0;32m   1107\u001b[0m     to_raise \u001b[38;5;241m=\u001b[39m ((i8max \u001b[38;5;241m-\u001b[39m b2 \u001b[38;5;241m<\u001b[39m arr) \u001b[38;5;241m&\u001b[39m not_nan)\u001b[38;5;241m.\u001b[39many()\n",
      "\u001b[1;31mMemoryError\u001b[0m: Unable to allocate 27.3 MiB for an array with shape (3582795,) and data type int64"
     ]
    }
   ],
   "source": [
    "# define function\n",
    "def completion_time(row):\n",
    "    return SR_201724_df_status_filtered['closed_date'] - SR_201724_df_status_filtered['requested_date']\n",
    "\n",
    "# apply to DF\n",
    "SR_201724_df_status_filtered['days_to_complete'] = SR_201724_df_status_filtered.apply(completion_time, axis=1)"
   ]
  },
  {
   "cell_type": "code",
   "execution_count": null,
   "id": "a27cbc9d-6616-4cbd-a67d-82bd193279e0",
   "metadata": {},
   "outputs": [],
   "source": []
  }
 ],
 "metadata": {
  "kernelspec": {
   "display_name": "Python 3 (ipykernel)",
   "language": "python",
   "name": "python3"
  },
  "language_info": {
   "codemirror_mode": {
    "name": "ipython",
    "version": 3
   },
   "file_extension": ".py",
   "mimetype": "text/x-python",
   "name": "python",
   "nbconvert_exporter": "python",
   "pygments_lexer": "ipython3",
   "version": "3.9.12"
  }
 },
 "nbformat": 4,
 "nbformat_minor": 5
}
